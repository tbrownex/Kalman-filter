{
 "cells": [
  {
   "cell_type": "code",
   "execution_count": null,
   "metadata": {},
   "outputs": [],
   "source": [
    "import numpy as np\n",
    "from scipy.ndimage.filters import convolve\n",
    "\n",
    "startPos       = 0\n",
    "kernel         = [.1, .8, .1 ]\n",
    "sensorAccuracy = .999\n",
    "numMoves       = 10\n",
    "smallMove      = 1\n",
    "bigMove        = 5\n",
    "trackSize      = 10"
   ]
  },
  {
   "cell_type": "code",
   "execution_count": null,
   "metadata": {},
   "outputs": [],
   "source": [
    "def createTrack():\n",
    "    return [x for x in range(trackSize)]"
   ]
  },
  {
   "cell_type": "code",
   "execution_count": null,
   "metadata": {},
   "outputs": [],
   "source": [
    "def createMovements():\n",
    "    return [np.random.randint(smallMove, bigMove+1) for x in range(numMoves)]"
   ]
  },
  {
   "cell_type": "code",
   "execution_count": null,
   "metadata": {},
   "outputs": [],
   "source": [
    "# Create a bunch of random movements and the track\n",
    "movements = createMovements()\n",
    "track     = createTrack()\n",
    "# Initialize the prior and posterior.\n",
    "# Set position 0 as 90%\n",
    "prior = posterior = np.array([.9] + [0.01]*9)"
   ]
  },
  {
   "cell_type": "code",
   "execution_count": null,
   "metadata": {},
   "outputs": [],
   "source": [
    "for move in movements:\n",
    "        # peform prediction\n",
    "        tmp = convolve(np.roll(prior, move), kernel, mode='wrap')\n",
    "        print(tmp.sum())\n",
    "        input()\n",
    "        prior = likelihood\n",
    "        print(move, likelihood)\n",
    "        input()\n",
    "        # Update posterior with Bayes\n",
    "        likelihood = lh_hallway(track, m, sensor_accuracy)\n",
    "        \n",
    "        posterior  = prior * likelihood\n",
    "        # Normalize\n",
    "        posterior = posterior / posterior.sum()\n",
    "        index = np.argmax(posterior)"
   ]
  }
 ],
 "metadata": {
  "kernelspec": {
   "display_name": "Python 3",
   "language": "python",
   "name": "python3"
  },
  "language_info": {
   "codemirror_mode": {
    "name": "ipython",
    "version": 3
   },
   "file_extension": ".py",
   "mimetype": "text/x-python",
   "name": "python",
   "nbconvert_exporter": "python",
   "pygments_lexer": "ipython3",
   "version": "3.5.2"
  }
 },
 "nbformat": 4,
 "nbformat_minor": 2
}
