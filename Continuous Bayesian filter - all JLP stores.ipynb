{
 "cells": [
  {
   "cell_type": "code",
   "execution_count": 192,
   "metadata": {},
   "outputs": [],
   "source": [
    "import pandas as pd\n",
    "import numpy  as np\n",
    "from random import randint\n",
    "import matplotlib.pyplot as plt\n",
    "\n",
    "PATH = '/home/tbrownex/data/Hackett/JLP/'"
   ]
  },
  {
   "cell_type": "code",
   "execution_count": 193,
   "metadata": {},
   "outputs": [],
   "source": [
    "# \"pos\" is the current position\n",
    "# \"movement\" is where he's going\n",
    "def predict(pos, movement):\n",
    "    return gaussian(pos.mean + movement.mean, pos.var + movement.var)"
   ]
  },
  {
   "cell_type": "code",
   "execution_count": 194,
   "metadata": {},
   "outputs": [],
   "source": [
    "def update(prior, likelihood):\n",
    "    posterior = gaussian_multiply(likelihood, prior)\n",
    "    return posterior"
   ]
  },
  {
   "cell_type": "code",
   "execution_count": 195,
   "metadata": {},
   "outputs": [],
   "source": [
    "def gaussian_multiply(g1, g2):\n",
    "    mean = (g1.var * g2.mean + g2.var * g1.mean) / (g1.var + g2.var)\n",
    "    variance = (g1.var * g2.var) / (g1.var + g2.var)\n",
    "    return gaussian(mean, variance)"
   ]
  },
  {
   "cell_type": "code",
   "execution_count": 196,
   "metadata": {},
   "outputs": [],
   "source": [
    "def gaussian_repr(self):\n",
    "    return '𝒩(μ={:.3f}, 𝜎²={:.3f})'.format(self[0], self[1])\n",
    "\n",
    "from collections import namedtuple\n",
    "gaussian = namedtuple('Gaussian', ['mean', 'var'])\n",
    "gaussian.__repr__ = gaussian_repr"
   ]
  },
  {
   "cell_type": "code",
   "execution_count": 197,
   "metadata": {},
   "outputs": [],
   "source": [
    "# Create Train and Test sets\n",
    "# Train on all but the last month of data; then test against the last month\n",
    "# \"train\" is a series; \"test\" is a single value\n",
    "def split(sales, n):\n",
    "    train = sales[:-n]\n",
    "    test  = sales.tail(n)\n",
    "    test  = test.iloc[0]\n",
    "    return train, test"
   ]
  },
  {
   "cell_type": "code",
   "execution_count": 198,
   "metadata": {},
   "outputs": [],
   "source": [
    "def createPM(sales, var):\n",
    "    start  = sales.iloc[0]\n",
    "    finish = sales.iloc[-1]\n",
    "    rate   = (finish-start)/len(sales)\n",
    "    return gaussian(rate, var)"
   ]
  },
  {
   "cell_type": "code",
   "execution_count": 199,
   "metadata": {},
   "outputs": [],
   "source": [
    "cols = [\"Store\", \"Week\", \"Sales\"]\n",
    "df = pd.read_csv(PATH+\"/UseCase1/salesForecast/store_sales_by_OLG-pre.csv\",\\\n",
    "                 names=cols, header=0)\n",
    "\n",
    "df[\"Sales\"] = df[\"Sales\"].astype(\"float\")"
   ]
  },
  {
   "cell_type": "code",
   "execution_count": 200,
   "metadata": {},
   "outputs": [],
   "source": [
    "# Given a week, predict next weeks' sales and compare with a baseline prediction\n",
    "# The baseline would be if your prediction was just last weeks' sales\n",
    "# \"sales\" is a series holding the sales, week by week\n",
    "# \"var\" is the variance to be fed into the Process Model\n",
    "# Return the prediction error for both Bayesian and simple predictor\n",
    "def processSales(sales, n, var):\n",
    "    sales, test = split(sales, n)\n",
    "    baseline  = sales.iloc[-1]   # Used as simplistic predictor\n",
    "    # Initialize the Prior\n",
    "    x = gaussian(sales.iloc[0], var)\n",
    "    process_model = createPM(sales, var)\n",
    "    # Set the variance of the \"Sensor\" to the actual variance\n",
    "    sensorVar  = sales.var()\n",
    "    priors = []\n",
    "    xs     = []\n",
    "    for z in sales:\n",
    "        prior      = predict(x, process_model)\n",
    "        likelihood = gaussian(z, sensorVar)\n",
    "        x = update(prior, likelihood)\n",
    "        priors.append(prior.mean)\n",
    "        xs.append(x.mean)\n",
    "    pred = x.mean\n",
    "    baseDiff = abs(baseline - test)\n",
    "    predDiff = abs(pred - test)\n",
    "    \n",
    "    \n",
    "    plt.plot(sales)\n",
    "    #plt.plot(priors)\n",
    "    plt.plot(xs)\n",
    "    plt.show()\n",
    "    return baseDiff, predDiff"
   ]
  },
  {
   "cell_type": "code",
   "execution_count": 201,
   "metadata": {},
   "outputs": [],
   "source": [
    "# For each week, predict next weeks' sales\n",
    "# Return a list holding all the predictions, used to compute accuracy\n",
    "def loopWeeks(var):\n",
    "    base = []\n",
    "    pred = []\n",
    "    for n in weeks:\n",
    "        baseDiff, predDiff = processSales(sales, n, var)\n",
    "        base.append(baseDiff)\n",
    "        pred.append(predDiff)\n",
    "    return base, pred"
   ]
  },
  {
   "cell_type": "code",
   "execution_count": 202,
   "metadata": {},
   "outputs": [
    {
     "name": "stdout",
     "output_type": "stream",
     "text": [
      "Variance\tImprovement\n"
     ]
    },
    {
     "data": {
      "image/png": "[encoded data removed]",
      "text/plain": [
       "<Figure size 432x288 with 1 Axes>"
      ]
     },
     "metadata": {},
     "output_type": "display_data"
    },
    {
     "name": "stdout",
     "output_type": "stream",
     "text": [
      "20,000,000     -16.8%\n"
     ]
    }
   ],
   "source": [
    "sales = df.groupby(\"Week\")[\"Sales\"].sum()\n",
    "sales = sales.reset_index(drop=True)\n",
    "\n",
    "# These are all the weeks we'll be processing\n",
    "weeks = [x for x in range(10, 110)]\n",
    "weeks = [20]\n",
    "\n",
    "print(\"Variance\\tImprovement\")\n",
    "#for var in [100000*x for x in range(1,100)]:\n",
    "for var in [20000000]:\n",
    "    base, pred = loopWeeks(var)\n",
    "    accuracy = (sum(base) - sum(pred))/sum(base)\n",
    "    #if accuracy > .143:\n",
    "    print(\"{:<15,.0f}{:.1%}\".format(var, accuracy))"
   ]
  }
 ],
 "metadata": {
  "kernelspec": {
   "display_name": "Python 3 (ipykernel)",
   "language": "python",
   "name": "python3"
  },
  "language_info": {
   "codemirror_mode": {
    "name": "ipython",
    "version": 3
   },
   "file_extension": ".py",
   "mimetype": "text/x-python",
   "name": "python",
   "nbconvert_exporter": "python",
   "pygments_lexer": "ipython3",
   "version": "3.9.15"
  }
 },
 "nbformat": 4,
 "nbformat_minor": 2
}
