{
 "cells": [
  {
   "cell_type": "markdown",
   "metadata": {},
   "source": [
    "#### This is a dog tracker from here:\n",
    "http://35.193.70.70:8888/notebooks/Kalman-filter/eBook/06-Multivariate-Kalman-Filters.ipynb"
   ]
  },
  {
   "cell_type": "code",
   "execution_count": 1,
   "metadata": {},
   "outputs": [],
   "source": [
    "#from filterpy.kalman import predict, update\n",
    "import math\n",
    "import numpy as np\n",
    "from numpy.random import randn"
   ]
  },
  {
   "cell_type": "code",
   "execution_count": 3,
   "metadata": {},
   "outputs": [],
   "source": [
    "# Create the design state\n",
    "def designState():\n",
    "    initPos = 10.\n",
    "    initVel = 4.5\n",
    "    initPosVar = 500\n",
    "    initVelVar = 49.\n",
    "    return np.array([[initPos, initVel]]).T, np.diag([initPosVar, initVelVar])"
   ]
  },
  {
   "cell_type": "code",
   "execution_count": 4,
   "metadata": {},
   "outputs": [],
   "source": [
    "# This is the modeled update step. There is also a \"measurement\" update step\n",
    "def designProcessModel():\n",
    "    dt = 0.1\n",
    "    return np.array([[1, dt],\n",
    "                     [0, 1]])"
   ]
  },
  {
   "cell_type": "code",
   "execution_count": 5,
   "metadata": {},
   "outputs": [],
   "source": [
    "# \"state\" is the current State of the dog, meaning position and velocity\n",
    "# \"F\" is the state transition matrix of the Process Model\n",
    "# \"P\" is the covariance matrix of the state variables\n",
    "# I'm not incorporating \"Q\", the Process noise in here yet\n",
    "def predict(state, F, P):\n",
    "    state = np.matmul(F, state)   # his new position based on your model\n",
    "    P     = np.dot(np.dot(F, P), F.T)  # update the covariance matrix\n",
    "    return state, P"
   ]
  },
  {
   "cell_type": "code",
   "execution_count": 5,
   "metadata": {},
   "outputs": [],
   "source": [
    "# \"H\" is the Measurement Function\n",
    "# \"z\" is the measurement\n",
    "def update(x, z, H):\n",
    "    Hx = np.dot(H, x)   # convert x (prior) into a measurement\n",
    "    y  = z - Hx         # compute the residual\n",
    "    # project system uncertainty into measurement space\n",
    "    S = np.dot(np.dot(H, P), H.T) + R\n",
    "\n",
    "    # map system uncertainty into kalman gain\n",
    "    try:\n",
    "        K = dot(dot(P, H.T), linalg.inv(S))\n",
    "    except:\n",
    "        # can't invert a 1D array, annoyingly\n",
    "        K = dot(dot(P, H.T), 1./S)\n",
    "\n",
    "    # predict new x with residual scaled by the kalman gain\n",
    "    x = x + dot(K, y)\n",
    "    KH = dot(K, H)\n",
    "\n",
    "    try:\n",
    "        I_KH = np.eye(KH.shape[0]) - KH\n",
    "    except:\n",
    "        I_KH = np.array([1 - KH])\n",
    "    P = dot(dot(I_KH, P), I_KH.T) + dot(dot(K, R), K.T)\n",
    "\n",
    "\n",
    "    if return_all:\n",
    "        # compute log likelihood\n",
    "        log_likelihood = logpdf(z, dot(H, x), S)\n",
    "        return x, P, y, K, S, log_likelihood\n",
    "    return x, P"
   ]
  },
  {
   "cell_type": "code",
   "execution_count": 6,
   "metadata": {},
   "outputs": [],
   "source": [
    "# Track the position and velocity of a dog\n",
    "x, P = designState()\n",
    "F    = designProcessModel()     # F is the \"State Transition function\""
   ]
  },
  {
   "cell_type": "code",
   "execution_count": 7,
   "metadata": {},
   "outputs": [
    {
     "name": "stdout",
     "output_type": "stream",
     "text": [
      "x:  [[10.45]\n",
      " [ 4.5 ]]\n",
      "P:  [[500.49   4.9 ]\n",
      " [  4.9   49.  ]]\n",
      "x:  [[10.9]\n",
      " [ 4.5]]\n",
      "P:  [[501.96   9.8 ]\n",
      " [  9.8   49.  ]]\n",
      "x:  [[11.35]\n",
      " [ 4.5 ]]\n",
      "P:  [[504.41  14.7 ]\n",
      " [ 14.7   49.  ]]\n",
      "x:  [[11.8]\n",
      " [ 4.5]]\n",
      "P:  [[507.84  19.6 ]\n",
      " [ 19.6   49.  ]]\n",
      "x:  [[12.25]\n",
      " [ 4.5 ]]\n",
      "P:  [[512.25  24.5 ]\n",
      " [ 24.5   49.  ]]\n"
     ]
    }
   ],
   "source": [
    "for _ in range(5):\n",
    "    x, P = predict(x, F, P)"
   ]
  },
  {
   "cell_type": "code",
   "execution_count": 92,
   "metadata": {},
   "outputs": [
    {
     "name": "stdout",
     "output_type": "stream",
     "text": [
      "x = [[12.7]\n",
      " [ 4.5]]\n"
     ]
    }
   ],
   "source": [
    "from filterpy.kalman import predict\n",
    "x, P = predict(x=x, P=P, F=F, Q=0)\n",
    "print('x =', x)"
   ]
  }
 ],
 "metadata": {
  "kernelspec": {
   "display_name": "Python 3",
   "language": "python",
   "name": "python3"
  },
  "language_info": {
   "codemirror_mode": {
    "name": "ipython",
    "version": 3
   },
   "file_extension": ".py",
   "mimetype": "text/x-python",
   "name": "python",
   "nbconvert_exporter": "python",
   "pygments_lexer": "ipython3",
   "version": "3.5.2"
  }
 },
 "nbformat": 4,
 "nbformat_minor": 2
}
